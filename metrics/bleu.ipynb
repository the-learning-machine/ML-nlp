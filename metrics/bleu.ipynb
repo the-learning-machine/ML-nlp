{
  "nbformat": 4,
  "nbformat_minor": 0,
  "metadata": {
    "colab": {
      "name": "bleu.ipynb",
      "version": "0.3.2",
      "provenance": [],
      "collapsed_sections": [],
      "include_colab_link": true
    },
    "kernelspec": {
      "name": "python3",
      "display_name": "Python 3"
    }
  },
  "cells": [
    {
      "cell_type": "markdown",
      "metadata": {
        "id": "view-in-github",
        "colab_type": "text"
      },
      "source": [
        "<a href=\"https://colab.research.google.com/github/gcunhase/NLPMetrics/blob/master/notebooks/bleu.ipynb\" target=\"_parent\"><img src=\"https://colab.research.google.com/assets/colab-badge.svg\" alt=\"Open In Colab\"/></a>"
      ]
    },
    {
      "metadata": {
        "id": "cEvHsd4OnnO2",
        "colab_type": "text"
      },
      "cell_type": "markdown",
      "source": [
        "## BLEU: BiLingual Evaluation Understudy\n",
        "\n",
        "*NLP evaluation metric used in Machine Translation tasks*\n",
        "\n",
        "*Suitable for measuring corpus level similarity*\n",
        "\n",
        "*$n$-gram comparison between words in candidate sentence and reference sentences*\n",
        "\n",
        "*Range: 0 (no match) to 1 (exact match)*"
      ]
    },
    {
      "metadata": {
        "id": "_arqa6LRnzCL",
        "colab_type": "text"
      },
      "cell_type": "markdown",
      "source": [
        "### 1. Libraries\n",
        "*Install and import necessary libraries*\n"
      ]
    },
    {
      "metadata": {
        "id": "xFOnk5JdnuYQ",
        "colab_type": "code",
        "outputId": "4fad0fe6-b506-4bab-93f0-8724354b9b70",
        "colab": {
          "base_uri": "https://localhost:8080/",
          "height": 51
        }
      },
      "cell_type": "code",
      "source": [
        "import nltk\n",
        "import nltk.translate.bleu_score as bleu\n",
        "\n",
        "import math\n",
        "import numpy\n",
        "import os\n",
        "\n",
        "try:\n",
        "  nltk.data.find('tokenizers/punkt')\n",
        "except LookupError:\n",
        "  nltk.download('punkt')"
      ],
      "execution_count": 1,
      "outputs": [
        {
          "output_type": "stream",
          "text": [
            "[nltk_data] Downloading package punkt to /root/nltk_data...\n",
            "[nltk_data]   Unzipping tokenizers/punkt.zip.\n"
          ],
          "name": "stdout"
        }
      ]
    },
    {
      "metadata": {
        "id": "SVkfsYSZq_zn",
        "colab_type": "text"
      },
      "cell_type": "markdown",
      "source": [
        "### 2. Dataset\n",
        "*Array of words: candidate and reference sentences split into words*"
      ]
    },
    {
      "metadata": {
        "id": "Dr9v92X0r9VM",
        "colab_type": "code",
        "colab": {}
      },
      "cell_type": "code",
      "source": [
        "hyp = str('she read the book because she was interested in world history').split()\n",
        "ref_a = str('she read the book because she was interested in world history').split()\n",
        "ref_b = str('she was interested in world history because she read the book').split()"
      ],
      "execution_count": 0,
      "outputs": []
    },
    {
      "metadata": {
        "id": "PQYjMHOgsyfT",
        "colab_type": "text"
      },
      "cell_type": "markdown",
      "source": [
        "### 3. *Sentence* score calculation\n",
        "*Compares 1 hypothesis (candidate or source sentence) with 1+ reference sentences, returning the highest score when compared to multiple reference sentences.*"
      ]
    },
    {
      "metadata": {
        "id": "jXGCD-pi-jt5",
        "colab_type": "code",
        "outputId": "d3034c55-e02c-465d-c723-fbf6b71c62a1",
        "colab": {
          "base_uri": "https://localhost:8080/",
          "height": 68
        }
      },
      "cell_type": "code",
      "source": [
        "score_ref_a = bleu.sentence_bleu([ref_a], hyp)\n",
        "print(\"Hyp and ref_a are the same: {}\".format(score_ref_a))\n",
        "score_ref_b = bleu.sentence_bleu([ref_b], hyp)\n",
        "print(\"Hyp and ref_b are different: {}\".format(score_ref_b))\n",
        "score_ref_ab = bleu.sentence_bleu([ref_a, ref_b], hyp)\n",
        "print(\"Hyp vs multiple refs: {}\".format(score_ref_ab))"
      ],
      "execution_count": 0,
      "outputs": [
        {
          "output_type": "stream",
          "text": [
            "Hyp and ref_a are the same: 1.0\n",
            "Hyp and ref_b are different: 0.7400828044922853\n",
            "Hyp vs multiple refs: 1.0\n"
          ],
          "name": "stdout"
        }
      ]
    },
    {
      "metadata": {
        "id": "NW9ZXSsSs6bE",
        "colab_type": "text"
      },
      "cell_type": "markdown",
      "source": [
        "### 4. *Corpus* score calculation\n",
        "*Compares 1 candidate document with multiple sentence and 1+ reference documents also with multiple sentences.*\n",
        "\n",
        "* Different than averaging BLEU scores of each sentence, it calculates the score by *\"summing the numerators and denominators for each hypothesis-reference(s) pairs before the division\"*"
      ]
    },
    {
      "metadata": {
        "id": "XATgeqKPP02p",
        "colab_type": "code",
        "outputId": "16a8a902-618e-4ef6-d045-e8e10a37d042",
        "colab": {
          "base_uri": "https://localhost:8080/",
          "height": 68
        }
      },
      "cell_type": "code",
      "source": [
        "score_ref_a = bleu.corpus_bleu([[ref_a]], [hyp])\n",
        "print(\"1 document with 1 reference sentence: {}\".format(score_ref_a))\n",
        "score_ref_a = bleu.corpus_bleu([[ref_a, ref_b]], [hyp])\n",
        "print(\"1 document with 2 reference sentences: {}\".format(score_ref_a))\n",
        "score_ref_a = bleu.corpus_bleu([[ref_a], [ref_b]], [hyp, hyp])\n",
        "print(\"2 documents with 1 reference sentence each: {}\".format(score_ref_a))"
      ],
      "execution_count": 0,
      "outputs": [
        {
          "output_type": "stream",
          "text": [
            "1 document with 1 reference sentence: 1.0\n",
            "1 document with 2 reference sentences: 1.0\n",
            "2 documents with 1 reference sentence each: 0.8778107713916036\n"
          ],
          "name": "stdout"
        }
      ]
    },
    {
      "metadata": {
        "id": "hxgDToMctnTM",
        "colab_type": "text"
      },
      "cell_type": "markdown",
      "source": [
        "### 5. BLEU-$n$\n",
        "*In BLEU-$n$, $n$-gram scores can be obtained in both **sentence** and **corpus** calculations and they're indicated by the **weights** parameter.*\n",
        "\n",
        "* *weights*: length 4, where each index contains a weight corresponding to its respective $n$-gram.\n",
        "* $n$-gram with $n \\in \\{1, 2, 3, 4\\}$\n",
        "* $\\textit{weights}=(W_{N=1}, W_{N=2}, W_{N=3}, W_{N=4})$\n",
        "\n"
      ]
    },
    {
      "metadata": {
        "id": "0J2_E8zQP6K9",
        "colab_type": "code",
        "outputId": "18e4f421-dedd-4884-f407-20d808f5912b",
        "colab": {
          "base_uri": "https://localhost:8080/",
          "height": 34
        }
      },
      "cell_type": "code",
      "source": [
        "score_1gram = bleu.sentence_bleu([ref_b], hyp, weights=(1,0,0,0))\n",
        "score_2gram = bleu.sentence_bleu([ref_b], hyp, weights=(0,1,0,0))\n",
        "score_3gram = bleu.sentence_bleu([ref_b], hyp, weights=(0,0,1,0))\n",
        "score_4gram = bleu.sentence_bleu([ref_b], hyp, weights=(0,0,0,1))\n",
        "print(\"N-grams: 1-{}, 2-{}, 3-{}, 4-{}\".format(score_1gram, score_2gram, score_3gram, score_4gram))"
      ],
      "execution_count": 0,
      "outputs": [
        {
          "output_type": "stream",
          "text": [
            "N-grams: 1-1.0, 2-0.9, 3-0.6666666666666666, 4-0.5\n"
          ],
          "name": "stdout"
        }
      ]
    },
    {
      "metadata": {
        "id": "El1PaLtIDQyH",
        "colab_type": "text"
      },
      "cell_type": "markdown",
      "source": [
        "* Cumulative N-grams: *by default, the score is calculatedby considering all $N$-grams equally in a geometric mean*"
      ]
    },
    {
      "metadata": {
        "id": "ntJ1UkEaP-90",
        "colab_type": "code",
        "outputId": "47b6d19c-f14d-4caf-d635-9a9af2ca1856",
        "colab": {
          "base_uri": "https://localhost:8080/",
          "height": 34
        }
      },
      "cell_type": "code",
      "source": [
        "score_ngram1 = bleu.sentence_bleu([ref_b], hyp)\n",
        "score_ngram = bleu.sentence_bleu([ref_b], hyp, weights=(0.25,0.25,0.25,0.25))\n",
        "score_ngram_geo = (11/11*9/10*6/9*4/8)**0.25\n",
        "print(\"N-grams: {} = {} = \".format(score_ngram1, score_ngram, score_ngram_geo))"
      ],
      "execution_count": 0,
      "outputs": [
        {
          "output_type": "stream",
          "text": [
            "N-grams: 0.7400828044922853 = 0.7400828044922853\n"
          ],
          "name": "stdout"
        }
      ]
    },
    {
      "metadata": {
        "id": "oq3WktXzV2I9",
        "colab_type": "text"
      },
      "cell_type": "markdown",
      "source": [
        "### Further testing"
      ]
    },
    {
      "metadata": {
        "id": "rdVRiZQc-ebC",
        "colab_type": "code",
        "outputId": "ee32c00b-68f1-49cf-b16e-b59bc77a49c1",
        "colab": {
          "base_uri": "https://localhost:8080/",
          "height": 122
        }
      },
      "cell_type": "code",
      "source": [
        "hyp = str('she read the book because she was interested in world history').split()\n",
        "ref_a = str('she was interested in world history because she read the book').split()\n",
        "hyp_b = str('the book she read was about modern civilizations.').split()\n",
        "ref_b = str('the book she read was about modern civilizations.').split()\n",
        "\n",
        "score_a = bleu.sentence_bleu([ref_a], hyp)\n",
        "score_b = bleu.sentence_bleu([ref_b], hyp_b)\n",
        "score_ab = bleu.sentence_bleu([ref_a], hyp_b)\n",
        "score_ba = bleu.sentence_bleu([ref_b], hyp)\n",
        "score_ref_a = bleu.corpus_bleu([[ref_a], [ref_b]], [hyp, hyp_b])\n",
        "average = (score_a+score_b)/2\n",
        "corpus = math.pow((11+8)/19 * (9+7)/(17) * (6+6)/(9+6) * (4+5)/(8+5), 1/4)\n",
        "print(\"Sent: {}, {}, {}, {} - Corpus {}, {}, {}\".format(score_a, score_b, score_ab, score_ba, score_ref_a, average, corpus))"
      ],
      "execution_count": 2,
      "outputs": [
        {
          "output_type": "stream",
          "text": [
            "Sent: 0.7400828044922853, 1.0, 0.44677880536150705, 0.5491004867761125 - Corpus 0.8496988908521796, 0.8700414022461427, 0.8496988908521795\n"
          ],
          "name": "stdout"
        },
        {
          "output_type": "stream",
          "text": [
            "/usr/local/lib/python3.6/dist-packages/nltk/translate/bleu_score.py:490: UserWarning: \n",
            "Corpus/Sentence contains 0 counts of 3-gram overlaps.\n",
            "BLEU scores might be undesirable; use SmoothingFunction().\n",
            "  warnings.warn(_msg)\n"
          ],
          "name": "stderr"
        }
      ]
    }
  ]
}