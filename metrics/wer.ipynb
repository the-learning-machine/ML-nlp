{
  "nbformat": 4,
  "nbformat_minor": 0,
  "metadata": {
    "colab": {
      "name": "wer.ipynb",
      "version": "0.3.2",
      "provenance": [],
      "collapsed_sections": [],
      "include_colab_link": true
    },
    "kernelspec": {
      "name": "python3",
      "display_name": "Python 3"
    }
  },
  "cells": [
    {
      "cell_type": "markdown",
      "metadata": {
        "id": "view-in-github",
        "colab_type": "text"
      },
      "source": [
        "<a href=\"https://colab.research.google.com/github/gcunhase/NLPMetrics/blob/master/notebooks/wer.ipynb\" target=\"_parent\"><img src=\"https://colab.research.google.com/assets/colab-badge.svg\" alt=\"Open In Colab\"/></a>"
      ]
    },
    {
      "metadata": {
        "id": "jAOAjvOTk1Ir",
        "colab_type": "text"
      },
      "cell_type": "markdown",
      "source": [
        "## WER: Word Error Rate\n",
        "\n",
        "*NLP evaluation metric used as an accuracy metric for speech transcription, such as Automatic Speech Recognizers (ASR). Can also be used for Machine Translation.*\n",
        "\n",
        "*Suitable to estimate sentence post-editing effort: number of edits required to change a candidate sentence into one of the references*\n",
        "\n",
        "*Range: 0 ~ (no max range since there's no limit to the number of insertions)*"
      ]
    },
    {
      "metadata": {
        "id": "z_bKqceClM-u",
        "colab_type": "text"
      },
      "cell_type": "markdown",
      "source": [
        "### 1. Libraries\n",
        "*Install and import necessary libraries*"
      ]
    },
    {
      "metadata": {
        "id": "ADASwNoHlJ9i",
        "colab_type": "code",
        "colab": {}
      },
      "cell_type": "code",
      "source": [
        "import numpy as np"
      ],
      "execution_count": 0,
      "outputs": []
    },
    {
      "metadata": {
        "id": "7J8NcISNlSEQ",
        "colab_type": "text"
      },
      "cell_type": "markdown",
      "source": [
        "### 2. WER score"
      ]
    },
    {
      "metadata": {
        "id": "FAxp1OaKlVr9",
        "colab_type": "code",
        "colab": {}
      },
      "cell_type": "code",
      "source": [
        "def wer_score(hyp, ref, print_matrix=False):\n",
        "  N = len(hyp)\n",
        "  M = len(ref)\n",
        "  L = np.zeros((N,M))\n",
        "  for i in range(0, N):\n",
        "    for j in range(0, M):\n",
        "      if min(i,j) == 0:\n",
        "        L[i,j] = max(i,j)\n",
        "      else:\n",
        "        deletion = L[i-1,j] + 1\n",
        "        insertion = L[i,j-1] + 1\n",
        "        sub = 1 if hyp[i] != ref[j] else 0\n",
        "        substitution = L[i-1,j-1] + sub\n",
        "        L[i,j] = min(deletion, min(insertion, substitution))\n",
        "        # print(\"{} - {}: del {} ins {} sub {} s {}\".format(hyp[i], ref[j], deletion, insertion, substitution, sub))\n",
        "  if print_matrix:\n",
        "    print(\"WER matrix ({}x{}): \".format(N, M))\n",
        "    print(L)\n",
        "  return int(L[N-1, M-1])"
      ],
      "execution_count": 0,
      "outputs": []
    },
    {
      "metadata": {
        "id": "11u6uNr3lV7Z",
        "colab_type": "text"
      },
      "cell_type": "markdown",
      "source": [
        "### 3. Dataset\n",
        "*Array of words: candidate and reference sentences split into words*"
      ]
    },
    {
      "metadata": {
        "id": "-Sk9KOcHlfyI",
        "colab_type": "code",
        "colab": {}
      },
      "cell_type": "code",
      "source": [
        "ref = str('the cat is very cute').split()\n",
        "hyp = str('the baby cat was cute').split()"
      ],
      "execution_count": 0,
      "outputs": []
    },
    {
      "metadata": {
        "id": "XPEN4SL9qbdh",
        "colab_type": "text"
      },
      "cell_type": "markdown",
      "source": [
        "### 4. *Sentence* score calculation\n",
        "*Compares 1 hypothesis (candidate or source sentence) with 1 reference sentence.*"
      ]
    },
    {
      "metadata": {
        "id": "bhRX7mclqeXi",
        "colab_type": "code",
        "outputId": "23cb7cfa-cd01-443f-dc78-ca342ec051c0",
        "colab": {
          "base_uri": "https://localhost:8080/",
          "height": 136
        }
      },
      "cell_type": "code",
      "source": [
        "wer_score(hyp, ref, print_matrix=True)"
      ],
      "execution_count": 0,
      "outputs": [
        {
          "output_type": "stream",
          "text": [
            "WER matrix (5x5): \n",
            "[[0. 1. 2. 3. 4.]\n",
            " [1. 1. 2. 3. 4.]\n",
            " [2. 1. 2. 3. 4.]\n",
            " [3. 2. 2. 3. 4.]\n",
            " [4. 3. 3. 3. 3.]]\n"
          ],
          "name": "stdout"
        },
        {
          "output_type": "execute_result",
          "data": {
            "text/plain": [
              "3"
            ]
          },
          "metadata": {
            "tags": []
          },
          "execution_count": 40
        }
      ]
    }
  ]
}