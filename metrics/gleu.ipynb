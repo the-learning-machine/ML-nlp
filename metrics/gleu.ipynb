{
  "nbformat": 4,
  "nbformat_minor": 0,
  "metadata": {
    "colab": {
      "name": "gleu.ipynb",
      "version": "0.3.2",
      "provenance": [],
      "collapsed_sections": [],
      "include_colab_link": true
    },
    "kernelspec": {
      "name": "python3",
      "display_name": "Python 3"
    }
  },
  "cells": [
    {
      "cell_type": "markdown",
      "metadata": {
        "id": "view-in-github",
        "colab_type": "text"
      },
      "source": [
        "<a href=\"https://colab.research.google.com/github/gcunhase/NLPMetrics/blob/master/notebooks/gleu.ipynb\" target=\"_parent\"><img src=\"https://colab.research.google.com/assets/colab-badge.svg\" alt=\"Open In Colab\"/></a>"
      ]
    },
    {
      "metadata": {
        "id": "cEvHsd4OnnO2",
        "colab_type": "text"
      },
      "cell_type": "markdown",
      "source": [
        "## GLEU: Google-BLEU\n",
        "\n",
        "*NLP evaluation metric used in Machine Translation tasks*\n",
        "\n",
        "*Suitable for measuring sentence level similarity*\n",
        "\n",
        "*Range: 0 (no match) to 1 (exact match)*"
      ]
    },
    {
      "metadata": {
        "id": "_arqa6LRnzCL",
        "colab_type": "text"
      },
      "cell_type": "markdown",
      "source": [
        "### 1. Libraries\n",
        "*Install and import necessary libraries*\n"
      ]
    },
    {
      "metadata": {
        "id": "xFOnk5JdnuYQ",
        "colab_type": "code",
        "colab": {}
      },
      "cell_type": "code",
      "source": [
        "import nltk\n",
        "import nltk.translate.gleu_score as gleu\n",
        "\n",
        "import numpy\n",
        "import os\n",
        "\n",
        "try:\n",
        "  nltk.data.find('tokenizers/punkt')\n",
        "except LookupError:\n",
        "  nltk.download('punkt')"
      ],
      "execution_count": 0,
      "outputs": []
    },
    {
      "metadata": {
        "id": "SVkfsYSZq_zn",
        "colab_type": "text"
      },
      "cell_type": "markdown",
      "source": [
        "### 2. Dataset\n",
        "*Array of words: candidate and reference sentences split into words*"
      ]
    },
    {
      "metadata": {
        "id": "Dr9v92X0r9VM",
        "colab_type": "code",
        "colab": {}
      },
      "cell_type": "code",
      "source": [
        "hyp = str('she read the book because she was interested in world history').split()\n",
        "ref_a = str('she read the book because she was interested in world history').split()\n",
        "ref_b = str('she was interested in world history because she read the book').split()"
      ],
      "execution_count": 0,
      "outputs": []
    },
    {
      "metadata": {
        "id": "PQYjMHOgsyfT",
        "colab_type": "text"
      },
      "cell_type": "markdown",
      "source": [
        "### 3. *Sentence* score calculation\n",
        "*Compares 1 hypothesis (candidate or source sentence) with 1+ reference sentences, returning the highest score when compared to multiple reference sentences.*"
      ]
    },
    {
      "metadata": {
        "id": "jXGCD-pi-jt5",
        "colab_type": "code",
        "outputId": "a397d5db-7f74-426a-c2a5-7810aab1b832",
        "colab": {
          "base_uri": "https://localhost:8080/",
          "height": 71
        }
      },
      "cell_type": "code",
      "source": [
        "score_ref_a = gleu.sentence_gleu([ref_a], hyp)\n",
        "print(\"Hyp and ref_a are the same: {}\".format(score_ref_a))\n",
        "score_ref_b = gleu.sentence_gleu([ref_b], hyp)\n",
        "print(\"Hyp and ref_b are different: {}\".format(score_ref_b))\n",
        "score_ref_ab = gleu.sentence_gleu([ref_a, ref_b], hyp)\n",
        "print(\"Hyp vs multiple refs: {}\".format(score_ref_ab))"
      ],
      "execution_count": 12,
      "outputs": [
        {
          "output_type": "stream",
          "text": [
            "Hyp and ref_a are the same: 1.0\n",
            "Hyp and ref_b are different: 0.7894736842105263\n",
            "Hyp vs multiple refs: 1.0\n"
          ],
          "name": "stdout"
        }
      ]
    },
    {
      "metadata": {
        "id": "NW9ZXSsSs6bE",
        "colab_type": "text"
      },
      "cell_type": "markdown",
      "source": [
        "### 4. *Corpus* score calculation\n",
        "*Compares 1 candidate document with multiple sentence and 1+ reference documents also with multiple sentences.*"
      ]
    },
    {
      "metadata": {
        "id": "XATgeqKPP02p",
        "colab_type": "code",
        "colab": {
          "base_uri": "https://localhost:8080/",
          "height": 71
        },
        "outputId": "23750785-6b38-4b17-8576-f42f0f97dc98"
      },
      "cell_type": "code",
      "source": [
        "score_ref_a = gleu.corpus_gleu([[ref_a]], [hyp])\n",
        "print(\"1 document with 1 reference sentence: {}\".format(score_ref_a))\n",
        "score_ref_a = gleu.corpus_gleu([[ref_a, ref_b]], [hyp])\n",
        "print(\"1 document with 2 reference sentences: {}\".format(score_ref_a))\n",
        "score_ref_a = gleu.corpus_gleu([[ref_a], [ref_b]], [hyp, hyp])\n",
        "print(\"2 documents with 1 reference sentence each: {}\".format(score_ref_a))"
      ],
      "execution_count": 13,
      "outputs": [
        {
          "output_type": "stream",
          "text": [
            "1 document with 1 reference sentence: 1.0\n",
            "1 document with 2 reference sentences: 1.0\n",
            "2 documents with 1 reference sentence each: 0.8947368421052632\n"
          ],
          "name": "stdout"
        }
      ]
    },
    {
      "metadata": {
        "id": "hxgDToMctnTM",
        "colab_type": "text"
      },
      "cell_type": "markdown",
      "source": [
        "### 5. GLEU-$n$\n",
        "*In GLEU-$n$, $n$-gram scores can be obtained in both **sentence** and **corpus** calculations and they're indicated by **min_len** and **max_len** parameters.*\n",
        "\n",
        "* *min_len*: minimum order of $n$-grams it should extract\n",
        "* *max_len*: maximum order of $n$-grams it should extract\n"
      ]
    },
    {
      "metadata": {
        "id": "0J2_E8zQP6K9",
        "colab_type": "code",
        "colab": {
          "base_uri": "https://localhost:8080/",
          "height": 53
        },
        "outputId": "0720f0d4-e0dd-426a-e01e-bebbf9ceb198"
      },
      "cell_type": "code",
      "source": [
        "score_1to4grams = gleu.sentence_gleu([ref_b], hyp, min_len=1, max_len=4)\n",
        "score_1to2grams = gleu.sentence_gleu([ref_b], hyp, min_len=1, max_len=2)\n",
        "print(\"1 to 4 grams: {}\".format(score_1to4grams))\n",
        "print(\"1 to 2 grams: {}\".format(score_1to2grams))"
      ],
      "execution_count": 17,
      "outputs": [
        {
          "output_type": "stream",
          "text": [
            "1 to 4 grams: 0.7894736842105263\n",
            "1 to 2 grams: 0.9523809523809523\n"
          ],
          "name": "stdout"
        }
      ]
    }
  ]
}